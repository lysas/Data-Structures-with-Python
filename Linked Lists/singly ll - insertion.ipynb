{
 "cells": [
  {
   "cell_type": "markdown",
   "id": "7c9683d5",
   "metadata": {},
   "source": [
    "## Create a node"
   ]
  },
  {
   "cell_type": "code",
   "execution_count": 79,
   "id": "c4d2b91c",
   "metadata": {},
   "outputs": [
    {
     "name": "stdout",
     "output_type": "stream",
     "text": [
      "Data : 5, Address : None\n"
     ]
    }
   ],
   "source": [
    "class Node:\n",
    "    \n",
    "    # Every node is represented using the data part and address part\n",
    "    def __init__(self,data):\n",
    "        self.data = data # Store the data value\n",
    "        self.next = None # Stores address of the next element\n",
    "\n",
    "node = Node(5) # Create a node\n",
    "print(f\"Data : {node.data}, Address : {node.next}\")"
   ]
  },
  {
   "cell_type": "markdown",
   "id": "5348f377",
   "metadata": {},
   "source": [
    "## Create a linked list with 1 node"
   ]
  },
  {
   "cell_type": "code",
   "execution_count": 80,
   "id": "da9cb4fd",
   "metadata": {},
   "outputs": [
    {
     "name": "stdout",
     "output_type": "stream",
     "text": [
      "Data : 5, next : None, Address of first node = <__main__.Node object at 0x00000208D21BD5E0>\n"
     ]
    }
   ],
   "source": [
    "class LinkedList:\n",
    "    \n",
    "    # The head pointer is sufficient to refer to the linked list\n",
    "    def __init__(self,head):\n",
    "        self.head = None\n",
    "    \n",
    "    def insert(self,data):\n",
    "        self.head = Node(data)\n",
    "        print(f\"Data : {self.head.data}, next : {self.head.next}, Address of first node = {self.head}\")\n",
    "\n",
    "ll = LinkedList(None)\n",
    "ll.insert(5)"
   ]
  },
  {
   "cell_type": "markdown",
   "id": "83b88170",
   "metadata": {},
   "source": [
    "## Create a linked list with 3 nodes"
   ]
  },
  {
   "cell_type": "code",
   "execution_count": 81,
   "id": "e8a65eaf",
   "metadata": {},
   "outputs": [
    {
     "name": "stdout",
     "output_type": "stream",
     "text": [
      "Address of first node = 2236908033504,<__main__.Node object at 0x00000208D21BD5E0>\n",
      "head = 2236908033504\n",
      "Address of second node = 2236879977008,<__main__.Node object at 0x00000208D06FBA30>\n",
      "Address of third node = 2236879976384,<__main__.Node object at 0x00000208D06FB7C0>\n",
      "\n",
      "|5|2236879977008,<__main__.Node object at 0x00000208D06FBA30>| --> \n",
      "|6|2236879976384,<__main__.Node object at 0x00000208D06FB7C0>| --> \n",
      "|7|140725364021376, None|\n",
      "\n",
      "Final Linked List\n",
      "5-->6-->7-->None\n"
     ]
    }
   ],
   "source": [
    "class LinkedList:\n",
    "    \n",
    "    # The head pointer is sufficient to refer to the linked list\n",
    "    def __init__(self,head):\n",
    "        self.head = None\n",
    "    \n",
    "    def insert(self,data1, data2,data3):\n",
    "        first = Node(data1) # Create a node\n",
    "        self.head = first # Make head point to 1st node\n",
    "        \n",
    "        second = Node(data2) # Create a node\n",
    "        first.next = second # Make next value of first node point to the second node\n",
    "        \n",
    "        third = Node(data3) # Create a node\n",
    "        second.next = third # Make next value of second node point to the third node\n",
    "    \n",
    "    \n",
    "        print(f\"Address of first node = {id(first)},{first}\\nhead = {id(self.head)}\")\n",
    "        print(f\"Address of second node = {id(second)},{second}\")\n",
    "        print(f\"Address of third node = {id(third)},{third}\")\n",
    "        print(f\"\\n|{first.data}|{id(first.next)},{first.next}| --> \\n|{second.data}|{id(second.next)},{second.next}| --> \\n|{third.data}|{id(third.next)}, {third.next}|\")\n",
    "    \n",
    "    def printing(self):\n",
    "        current = self.head # Let current point to the first node\n",
    "        print(\"\\nFinal Linked List\")\n",
    "        \n",
    "        # Allow current to move from node to node till it reaches the last node\n",
    "        while current != None:\n",
    "            print(f\"{current.data}-->\",end=\"\")\n",
    "            current = current.next # Move current to next node            \n",
    "        print(\"None\")\n",
    "        \n",
    "ll = LinkedList(None)\n",
    "ll.insert(5,6,7)\n",
    "ll.printing()"
   ]
  },
  {
   "cell_type": "markdown",
   "id": "085980de",
   "metadata": {},
   "source": [
    "# Create linked list with n nodes"
   ]
  },
  {
   "cell_type": "markdown",
   "id": "aa3481ff",
   "metadata": {},
   "source": [
    "## Get input from user"
   ]
  },
  {
   "cell_type": "code",
   "execution_count": 82,
   "id": "b1e06231",
   "metadata": {},
   "outputs": [
    {
     "name": "stdout",
     "output_type": "stream",
     "text": [
      "Enter the number : 1\n",
      "Do you add node at the end(y/n) : n\n",
      "\n",
      "Final Linked List\n",
      "1-->None\n"
     ]
    }
   ],
   "source": [
    "class LinkedList:\n",
    "    \n",
    "    # The head pointer is sufficient to refer to the linked list\n",
    "    def __init__(self,head):\n",
    "        self.head = None\n",
    "    \n",
    "    def insert(self):\n",
    "        data = int(input(\"Enter the number : \"))\n",
    "        self.head = Node(data) # Create a node\n",
    "        current = self.head # Make current point to 1st node\n",
    "        while(True):\n",
    "            check = input(\"Do you add node at the end(y/n) : \")\n",
    "            if(check == 'y'):\n",
    "                data = int(input(\"Enter the number : \"))\n",
    "                current.next = Node(data) # Create new node and Make the next point to new node\n",
    "                current = current.next # Move currrent to newly created node\n",
    "            else:\n",
    "                break\n",
    "            \n",
    "    def printing(self):\n",
    "        current = self.head # Let current point to the first node\n",
    "        print(\"\\nFinal Linked List\")\n",
    "        \n",
    "        # Allow current to move from node to node till it reaches the last node\n",
    "        while current != None:\n",
    "            print(f\"{current.data}-->\",end=\"\")\n",
    "            current = current.next # Move current to next node            \n",
    "        print(\"None\")\n",
    "        \n",
    "ll = LinkedList(None)\n",
    "ll.insert()\n",
    "ll.printing()"
   ]
  },
  {
   "cell_type": "markdown",
   "id": "cc10b025",
   "metadata": {},
   "source": [
    "## Insert n nodes from list"
   ]
  },
  {
   "cell_type": "code",
   "execution_count": 83,
   "id": "64333ae6",
   "metadata": {},
   "outputs": [],
   "source": [
    "class LinkedList:\n",
    "    \n",
    "    # The head pointer is sufficient to refer to the linked list\n",
    "    def __init__(self,head):\n",
    "        self.head = None\n",
    "    \n",
    "    def insert(self,list_items,num):\n",
    "        self.head = Node(next(list_items)) # Create a node\n",
    "        current = self.head # Make current point to 1st node\n",
    "        for i in range(num-1): # Create remaining nodes\n",
    "            # 1. Take next item from list, 2. Create new node, 3. Make next point to the new node\n",
    "            current.next = Node(next(list_items)) \n",
    "            current = current.next # Move current to the next node\n",
    "        return self.head\n",
    "            \n",
    "   \n",
    "        \n",
    "ll = LinkedList(None)\n",
    "\n",
    "# Driver Code\n",
    "list1 = []\n",
    "list2 = [1]\n",
    "list3 = [4,3,8,10]\n",
    "\n",
    "l_iter = iter(list3) # Convert list to iterator\n",
    "head = ll.insert(l_iter,len(list3))"
   ]
  },
  {
   "cell_type": "markdown",
   "id": "34a04cb5",
   "metadata": {},
   "source": [
    "# Traversing and Printing Elements in Linked List"
   ]
  },
  {
   "cell_type": "code",
   "execution_count": 84,
   "id": "394fbf09",
   "metadata": {},
   "outputs": [
    {
     "name": "stdout",
     "output_type": "stream",
     "text": [
      "Final Linked List\n",
      "4-->3-->8-->10-->None\n"
     ]
    }
   ],
   "source": [
    " def print_ll(head):\n",
    "        current = head # Let current point to the first node\n",
    "        print(\"Final Linked List\")\n",
    "        \n",
    "        # Allow current to move from node to node till it reaches the last node\n",
    "        while current != None:\n",
    "            print(f\"{current.data}-->\",end=\"\")\n",
    "            current = current.next # Move current to next node            \n",
    "        print(\"None\")\n",
    "\n",
    "print_ll(head)"
   ]
  },
  {
   "cell_type": "markdown",
   "id": "8a5d8bc0",
   "metadata": {},
   "source": [
    "# Insert at the beginning"
   ]
  },
  {
   "cell_type": "code",
   "execution_count": 85,
   "id": "265b97e6",
   "metadata": {},
   "outputs": [
    {
     "name": "stdout",
     "output_type": "stream",
     "text": [
      "Final Linked List\n",
      "5-->4-->3-->8-->10-->None\n"
     ]
    }
   ],
   "source": [
    "def insert_beg(head,data):\n",
    "    newnode = Node(data) # Create new node\n",
    "    newnode.next = head # Make next of newnode point to head\n",
    "    head = newnode # head points to newly inserted node\n",
    "    return head # head changes and so return head\n",
    "\n",
    "head = insert_beg(head,5)\n",
    "print_ll(head)"
   ]
  },
  {
   "cell_type": "markdown",
   "id": "207d8f7c",
   "metadata": {},
   "source": [
    "## Insert at the end"
   ]
  },
  {
   "cell_type": "code",
   "execution_count": 86,
   "id": "bd070318",
   "metadata": {},
   "outputs": [
    {
     "name": "stdout",
     "output_type": "stream",
     "text": [
      "Final Linked List\n",
      "5-->4-->3-->8-->10-->6-->None\n"
     ]
    }
   ],
   "source": [
    "def insert_end(head,data):\n",
    "    current = head\n",
    "    while current.next != None:\n",
    "        current = current.next # Move current to next node\n",
    "    current.next = Node(data)    \n",
    "\n",
    "insert_end(head,6)\n",
    "print_ll(head)"
   ]
  },
  {
   "cell_type": "markdown",
   "id": "1c5d3740",
   "metadata": {},
   "source": [
    "# Insert before a given value or at the end"
   ]
  },
  {
   "cell_type": "code",
   "execution_count": 87,
   "id": "26eeefcf",
   "metadata": {},
   "outputs": [
    {
     "name": "stdout",
     "output_type": "stream",
     "text": [
      "Before last node\n",
      "Final Linked List\n",
      "5-->4-->3-->8-->10-->88-->6-->None\n",
      "\n",
      "\n",
      "Node not found\n",
      "Final Linked List\n",
      "5-->4-->3-->8-->10-->88-->6-->99-->None\n",
      "\n",
      "\n",
      "Node in between\n",
      "Final Linked List\n",
      "5-->4-->33-->3-->8-->10-->88-->6-->99-->None\n",
      "\n",
      "\n",
      "Before first node\n",
      "Final Linked List\n",
      "55-->5-->4-->33-->3-->8-->10-->88-->6-->99-->None\n"
     ]
    }
   ],
   "source": [
    "def insert_val_before(head,check_val,newdata):\n",
    "    current = head # current is the current node being checked\n",
    "    previous = head # previous always points to the node before the current node\n",
    "    \n",
    "    # If not the end of list and if the value is found\n",
    "    while (current != None) and (current.data != check_val): \n",
    "        previous = current \n",
    "        # move previous to current node such that previous always to one node before current\n",
    "        current = current.next # Move current to next node\n",
    "    \n",
    "    if (previous is head): # If the node searched is the first node       \n",
    "        newnode = Node(newdata) # Create new node\n",
    "        newnode.next = head # Make newnode point to head\n",
    "        head = newnode # Change head to point to the newnode\n",
    "    else:    # head pointer need not ne changed\n",
    "        previous.next = Node(newdata) # Make previous point to newnode\n",
    "        previous.next.next = current    # make newnode point to current\n",
    "    return head\n",
    "\n",
    "# Driver Code\n",
    "\n",
    "print(\"Before last node\")\n",
    "head = insert_val_before(head,6,88)\n",
    "print_ll(head)\n",
    "\n",
    "print(\"\\n\\nNode not found\")\n",
    "head = insert_val_before(head,1,99)\n",
    "print_ll(head)\n",
    "\n",
    "print(\"\\n\\nNode in between\")\n",
    "head = insert_val_before(head,3,33)\n",
    "print_ll(head)\n",
    "\n",
    "print(\"\\n\\nBefore first node\")\n",
    "head = insert_val_before(head,5,55)\n",
    "print_ll(head)"
   ]
  },
  {
   "cell_type": "markdown",
   "id": "706bccd3",
   "metadata": {},
   "source": [
    "# Insert after a given value or at the end"
   ]
  },
  {
   "cell_type": "code",
   "execution_count": 88,
   "id": "8892fea2",
   "metadata": {},
   "outputs": [
    {
     "name": "stdout",
     "output_type": "stream",
     "text": [
      "After last node\n",
      "Final Linked List\n",
      "55-->5-->4-->33-->3-->8-->10-->88-->6-->99-->9-->None\n",
      "Node not found\n",
      "Final Linked List\n",
      "55-->5-->4-->33-->3-->8-->10-->88-->6-->99-->9-->99-->None\n",
      "Node in between\n",
      "Final Linked List\n",
      "55-->5-->4-->33-->3-->34-->8-->10-->88-->6-->99-->9-->99-->None\n",
      "After first node\n",
      "Final Linked List\n",
      "55-->25-->5-->4-->33-->3-->34-->8-->10-->88-->6-->99-->9-->99-->None\n"
     ]
    }
   ],
   "source": [
    "def insert_val_after(head,check_val,newdata):\n",
    "    current = head\n",
    "    \n",
    "    # If not the last element of list and if the value is found\n",
    "    while (current.next != None) and (current.data != check_val): \n",
    "        previous = current \n",
    "        # move previous to current node such that previous always to one node before current\n",
    "        current = current.next # Move current to next node\n",
    "     \n",
    "    newnode = Node(newdata) # Create newnode\n",
    "    newnode.next = current.next # Make newnode point to node after the current node\n",
    "    current.next = newnode # Make current point to newnode\n",
    "\n",
    "# Driver code\n",
    "print(\"After last node\")\n",
    "insert_val_after(head,99,9)\n",
    "print_ll(head)\n",
    "\n",
    "print(\"Node not found\")\n",
    "insert_val_after(head,1,99)\n",
    "print_ll(head)\n",
    "\n",
    "print(\"Node in between\")\n",
    "insert_val_after(head,3,34)\n",
    "print_ll(head)\n",
    "\n",
    "print(\"After first node\")\n",
    "insert_val_after(head,55,25)\n",
    "print_ll(head)\n"
   ]
  }
 ],
 "metadata": {
  "kernelspec": {
   "display_name": "Python 3 (ipykernel)",
   "language": "python",
   "name": "python3"
  },
  "language_info": {
   "codemirror_mode": {
    "name": "ipython",
    "version": 3
   },
   "file_extension": ".py",
   "mimetype": "text/x-python",
   "name": "python",
   "nbconvert_exporter": "python",
   "pygments_lexer": "ipython3",
   "version": "3.8.2"
  }
 },
 "nbformat": 4,
 "nbformat_minor": 5
}
