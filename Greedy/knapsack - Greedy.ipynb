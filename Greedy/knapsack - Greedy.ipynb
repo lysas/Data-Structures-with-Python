{
 "cells": [
  {
   "cell_type": "code",
   "execution_count": 68,
   "id": "8a1bf608",
   "metadata": {},
   "outputs": [],
   "source": [
    "def fractional_knapsack(pbyw,n,m):\n",
    "    # 0 <= x <= n decides how much of item is used\n",
    "    # pbyw is a list of items sorted by profit/weight\n",
    "    # m is maximum capacity of knapsack\n",
    "    # n is the total number of items\n",
    "    # x stores the fraction of each item considered\n",
    "    \n",
    "    x=[0 for i in range(n)]  # Initialize to 0  \n",
    "    accumulated_weight = m # Total remaining weight\n",
    "    for i in range(n):\n",
    "        if(pbyw[i] > accumulated_weight): # If considering the next item exceeds limit\n",
    "            break\n",
    "        x[i] = 1 # Taking ith item\n",
    "        accumulated_weight = accumulated_weight-pbyw[i] # Remaining weight that can be used\n",
    "    if(i <= n):\n",
    "        x[i] = accumulated_weight/pbyw[i] # Only a fraction of the last item is used\n",
    "    return x"
   ]
  },
  {
   "cell_type": "code",
   "execution_count": 78,
   "id": "61109282",
   "metadata": {},
   "outputs": [
    {
     "name": "stdout",
     "output_type": "stream",
     "text": [
      "Profit/Weight [5.75, 13.0, 3.5, 9.666666666666666, 1.5714285714285714, 10.0]\n",
      "Sorted List \n",
      " [13.0, 10.0, 9.666666666666666, 5.75, 3.5, 1.5714285714285714]\n",
      "Sorted List with index \n",
      " [(1.5714285714285714, 4), (3.5, 2), (5.75, 0), (9.666666666666666, 3), (10.0, 5), (13.0, 1)]\n"
     ]
    }
   ],
   "source": [
    "# Input\n",
    "profit = [23, 65, 35, 29, 11, 50]\n",
    "weight = [4, 5, 10, 3, 7, 5]\n",
    "\n",
    "# Find profit/weight and sort it\n",
    "per_unit_cost = [p/w for p,w in zip(profit,weight)]\n",
    "print(\"Profit/Weight\",per_unit_cost)\n",
    "\n",
    "# Sort elements by profit/weight\n",
    "sorted_elts = sorted(e for i,e in enumerate(per_unit_cost))\n",
    "sorted_elts.sort(reverse=True)\n",
    "print(\"Sorted List \\n\",sorted_elts)\n",
    "\n",
    "# Find index of sorted items \n",
    "sorted_index = sorted((e,i) for i,e in enumerate(per_unit_cost))\n",
    "print(\"Sorted List with index \\n\",sorted_index)\n"
   ]
  },
  {
   "cell_type": "code",
   "execution_count": 83,
   "id": "db954162",
   "metadata": {},
   "outputs": [
    {
     "name": "stdout",
     "output_type": "stream",
     "text": [
      "Items taken in order are [1, 5, 3, 0, 2, 4]\n",
      "Fraction of each item taken : [1, 1, 0.20689655172413796, 0, 0, 0]\n"
     ]
    }
   ],
   "source": [
    "x = fractional_knapsack(sorted_elts,len(sorted_elts),m=25)\n",
    "items = [sorted_index[i][1] for i in range(len(x))]\n",
    "items.reverse()\n",
    "print(f\"Items taken in order are {items}\\nFraction of each item taken : {x}\")"
   ]
  }
 ],
 "metadata": {
  "kernelspec": {
   "display_name": "Python 3 (ipykernel)",
   "language": "python",
   "name": "python3"
  },
  "language_info": {
   "codemirror_mode": {
    "name": "ipython",
    "version": 3
   },
   "file_extension": ".py",
   "mimetype": "text/x-python",
   "name": "python",
   "nbconvert_exporter": "python",
   "pygments_lexer": "ipython3",
   "version": "3.8.2"
  }
 },
 "nbformat": 4,
 "nbformat_minor": 5
}
