{
 "cells": [
  {
   "cell_type": "code",
   "execution_count": 8,
   "id": "71eb7ecc",
   "metadata": {},
   "outputs": [],
   "source": [
    "import math\n",
    "def mergeSort(A, low, high):\n",
    "    if low < high:\n",
    "        mid = math.floor((low+high)/2)  # find the index of the middle element\n",
    "        print(f\"low = {low}, mid = {mid}, high = {high}\")\n",
    "        mergeSort(A, low, mid) # Call left sublist\n",
    "        mergeSort(A, mid+1, high) # Call right sublist\n",
    "        merge(A, low, mid, high) # Perform comparison sort"
   ]
  },
  {
   "cell_type": "code",
   "execution_count": 9,
   "id": "68db3c59",
   "metadata": {},
   "outputs": [],
   "source": [
    "def merge(A, low, mid, high):\n",
    "    subarray1 = low # Initializing index of left sublist\n",
    "    subarray2 = mid+1 # Initializing index of right sublist\n",
    "    tempArray = low # Initializing index of temporary list\n",
    "    \n",
    "    print(f'subarray1 = {subarray1}, subarray2 = {subarray2}, temparray = {tempArray}\\ntemp = {temp}')\n",
    "    \n",
    "    # Perform till we reach the last index of left or right sublist\n",
    "    while((subarray1 <= mid) and (subarray2 <= high)): \n",
    "        \n",
    "        # Check values in left and right sublist        \n",
    "        if(A[subarray1] < A[subarray2]): \n",
    "            temp[tempArray] = A[subarray1]; # Write the smaller value in temporary list\n",
    "            subarray1 = subarray1 + 1  # Move the index in the list with smaller value         \n",
    "        else:\n",
    "            temp[tempArray] = A[subarray2]\n",
    "            subarray2 = subarray2 + 1            \n",
    "        tempArray = tempArray + 1 # Move index of temporary array\n",
    "    \n",
    "    if(subarray1 > mid): # First list is empty\n",
    "        for i in range(subarray2,high+1): # Copy the values in the second list in temporary list\n",
    "            temp[tempArray] = A[i]\n",
    "            tempArray = tempArray + 1\n",
    "    else: # First list is empty\n",
    "        for i in range(subarray1,mid+1): # Copy the values in the first list in temporary list\n",
    "            temp[tempArray] = A[i]\n",
    "            tempArray = tempArray + 1\n",
    "    print(f'subarray1 = {subarray1}, subarray2 = {subarray2}, temparray = {tempArray}\\ntemp = {temp}')\n",
    "    \n",
    "    for i in range(low,high+1): # Rewrite the orginal array\n",
    "        A[i] = temp[i]\n",
    "    print(f'A[] = {A}')"
   ]
  },
  {
   "cell_type": "code",
   "execution_count": 10,
   "id": "a3ec6bdc",
   "metadata": {},
   "outputs": [
    {
     "name": "stdout",
     "output_type": "stream",
     "text": [
      "low = 0, mid = 3, high = 7\n",
      "low = 0, mid = 1, high = 3\n",
      "low = 0, mid = 0, high = 1\n",
      "subarray1 = 0, subarray2 = 1, temparray = 0\n",
      "temp = [None, None, None, None, None, None, None, None]\n",
      "subarray1 = 0, subarray2 = 2, temparray = 2\n",
      "temp = [1, 4, None, None, None, None, None, None]\n",
      "A[] = [1, 4, 2, 5, 6, 3, 8, 7]\n",
      "low = 2, mid = 2, high = 3\n",
      "subarray1 = 2, subarray2 = 3, temparray = 2\n",
      "temp = [1, 4, None, None, None, None, None, None]\n",
      "subarray1 = 3, subarray2 = 3, temparray = 4\n",
      "temp = [1, 4, 2, 5, None, None, None, None]\n",
      "A[] = [1, 4, 2, 5, 6, 3, 8, 7]\n",
      "subarray1 = 0, subarray2 = 2, temparray = 0\n",
      "temp = [1, 4, 2, 5, None, None, None, None]\n",
      "subarray1 = 2, subarray2 = 3, temparray = 4\n",
      "temp = [1, 2, 4, 5, None, None, None, None]\n",
      "A[] = [1, 2, 4, 5, 6, 3, 8, 7]\n",
      "low = 4, mid = 5, high = 7\n",
      "low = 4, mid = 4, high = 5\n",
      "subarray1 = 4, subarray2 = 5, temparray = 4\n",
      "temp = [1, 2, 4, 5, None, None, None, None]\n",
      "subarray1 = 4, subarray2 = 6, temparray = 6\n",
      "temp = [1, 2, 4, 5, 3, 6, None, None]\n",
      "A[] = [1, 2, 4, 5, 3, 6, 8, 7]\n",
      "low = 6, mid = 6, high = 7\n",
      "subarray1 = 6, subarray2 = 7, temparray = 6\n",
      "temp = [1, 2, 4, 5, 3, 6, None, None]\n",
      "subarray1 = 6, subarray2 = 8, temparray = 8\n",
      "temp = [1, 2, 4, 5, 3, 6, 7, 8]\n",
      "A[] = [1, 2, 4, 5, 3, 6, 7, 8]\n",
      "subarray1 = 4, subarray2 = 6, temparray = 4\n",
      "temp = [1, 2, 4, 5, 3, 6, 7, 8]\n",
      "subarray1 = 6, subarray2 = 6, temparray = 8\n",
      "temp = [1, 2, 4, 5, 3, 6, 7, 8]\n",
      "A[] = [1, 2, 4, 5, 3, 6, 7, 8]\n",
      "subarray1 = 0, subarray2 = 4, temparray = 0\n",
      "temp = [1, 2, 4, 5, 3, 6, 7, 8]\n",
      "subarray1 = 4, subarray2 = 5, temparray = 8\n",
      "temp = [1, 2, 3, 4, 5, 6, 7, 8]\n",
      "A[] = [1, 2, 3, 4, 5, 6, 7, 8]\n",
      "[1, 2, 3, 4, 5, 6, 7, 8]\n"
     ]
    }
   ],
   "source": [
    "A_even = [4,1,2,5,6,3,8,7]\n",
    "temp = [None] * len(A_even)\n",
    "mergeSort(A_even, 0,len(A_even)-1)\n",
    "print(A_even)"
   ]
  },
  {
   "cell_type": "code",
   "execution_count": 11,
   "id": "71b03e03",
   "metadata": {},
   "outputs": [
    {
     "name": "stdout",
     "output_type": "stream",
     "text": [
      "low = 0, mid = 4, high = 8\n",
      "low = 0, mid = 2, high = 4\n",
      "low = 0, mid = 1, high = 2\n",
      "low = 0, mid = 0, high = 1\n",
      "subarray1 = 0, subarray2 = 1, temparray = 0\n",
      "temp = [None, None, None, None, None, None, None, None, None]\n",
      "subarray1 = 0, subarray2 = 2, temparray = 2\n",
      "temp = [1, 4, None, None, None, None, None, None, None]\n",
      "A[] = [1, 4, 2, 5, 9, 6, 3, 8, 7]\n",
      "subarray1 = 0, subarray2 = 2, temparray = 0\n",
      "temp = [1, 4, None, None, None, None, None, None, None]\n",
      "subarray1 = 1, subarray2 = 3, temparray = 3\n",
      "temp = [1, 2, 4, None, None, None, None, None, None]\n",
      "A[] = [1, 2, 4, 5, 9, 6, 3, 8, 7]\n",
      "low = 3, mid = 3, high = 4\n",
      "subarray1 = 3, subarray2 = 4, temparray = 3\n",
      "temp = [1, 2, 4, None, None, None, None, None, None]\n",
      "subarray1 = 4, subarray2 = 4, temparray = 5\n",
      "temp = [1, 2, 4, 5, 9, None, None, None, None]\n",
      "A[] = [1, 2, 4, 5, 9, 6, 3, 8, 7]\n",
      "subarray1 = 0, subarray2 = 3, temparray = 0\n",
      "temp = [1, 2, 4, 5, 9, None, None, None, None]\n",
      "subarray1 = 3, subarray2 = 3, temparray = 5\n",
      "temp = [1, 2, 4, 5, 9, None, None, None, None]\n",
      "A[] = [1, 2, 4, 5, 9, 6, 3, 8, 7]\n",
      "low = 5, mid = 6, high = 8\n",
      "low = 5, mid = 5, high = 6\n",
      "subarray1 = 5, subarray2 = 6, temparray = 5\n",
      "temp = [1, 2, 4, 5, 9, None, None, None, None]\n",
      "subarray1 = 5, subarray2 = 7, temparray = 7\n",
      "temp = [1, 2, 4, 5, 9, 3, 6, None, None]\n",
      "A[] = [1, 2, 4, 5, 9, 3, 6, 8, 7]\n",
      "low = 7, mid = 7, high = 8\n",
      "subarray1 = 7, subarray2 = 8, temparray = 7\n",
      "temp = [1, 2, 4, 5, 9, 3, 6, None, None]\n",
      "subarray1 = 7, subarray2 = 9, temparray = 9\n",
      "temp = [1, 2, 4, 5, 9, 3, 6, 7, 8]\n",
      "A[] = [1, 2, 4, 5, 9, 3, 6, 7, 8]\n",
      "subarray1 = 5, subarray2 = 7, temparray = 5\n",
      "temp = [1, 2, 4, 5, 9, 3, 6, 7, 8]\n",
      "subarray1 = 7, subarray2 = 7, temparray = 9\n",
      "temp = [1, 2, 4, 5, 9, 3, 6, 7, 8]\n",
      "A[] = [1, 2, 4, 5, 9, 3, 6, 7, 8]\n",
      "subarray1 = 0, subarray2 = 5, temparray = 0\n",
      "temp = [1, 2, 4, 5, 9, 3, 6, 7, 8]\n",
      "subarray1 = 4, subarray2 = 9, temparray = 9\n",
      "temp = [1, 2, 3, 4, 5, 6, 7, 8, 9]\n",
      "A[] = [1, 2, 3, 4, 5, 6, 7, 8, 9]\n",
      "[1, 2, 3, 4, 5, 6, 7, 8, 9]\n"
     ]
    }
   ],
   "source": [
    "A_odd = [4,1,2,5,9,6,3,8,7]\n",
    "temp = [None] * len(A_odd)\n",
    "mergeSort(A_odd, 0,len(A_odd)-1)\n",
    "print(A_odd)"
   ]
  },
  {
   "cell_type": "code",
   "execution_count": 12,
   "id": "a227d9a9",
   "metadata": {},
   "outputs": [
    {
     "name": "stdout",
     "output_type": "stream",
     "text": [
      "[4]\n"
     ]
    }
   ],
   "source": [
    "A_single = [4]\n",
    "temp = [None] * len(A_single)\n",
    "mergeSort(A_single, 0,len(A_single)-1)\n",
    "print(A_single)"
   ]
  },
  {
   "cell_type": "code",
   "execution_count": 13,
   "id": "8c4a3280",
   "metadata": {},
   "outputs": [
    {
     "name": "stdout",
     "output_type": "stream",
     "text": [
      "low = 0, mid = 4, high = 8\n",
      "low = 0, mid = 2, high = 4\n",
      "low = 0, mid = 1, high = 2\n",
      "low = 0, mid = 0, high = 1\n",
      "subarray1 = 0, subarray2 = 1, temparray = 0\n",
      "temp = [None, None, None, None, None, None, None, None, None]\n",
      "subarray1 = 0, subarray2 = 2, temparray = 2\n",
      "temp = [1, 4, None, None, None, None, None, None, None]\n",
      "A[] = [1, 4, 2, 7, 9, 6, 3, 2, 7]\n",
      "subarray1 = 0, subarray2 = 2, temparray = 0\n",
      "temp = [1, 4, None, None, None, None, None, None, None]\n",
      "subarray1 = 1, subarray2 = 3, temparray = 3\n",
      "temp = [1, 2, 4, None, None, None, None, None, None]\n",
      "A[] = [1, 2, 4, 7, 9, 6, 3, 2, 7]\n",
      "low = 3, mid = 3, high = 4\n",
      "subarray1 = 3, subarray2 = 4, temparray = 3\n",
      "temp = [1, 2, 4, None, None, None, None, None, None]\n",
      "subarray1 = 4, subarray2 = 4, temparray = 5\n",
      "temp = [1, 2, 4, 7, 9, None, None, None, None]\n",
      "A[] = [1, 2, 4, 7, 9, 6, 3, 2, 7]\n",
      "subarray1 = 0, subarray2 = 3, temparray = 0\n",
      "temp = [1, 2, 4, 7, 9, None, None, None, None]\n",
      "subarray1 = 3, subarray2 = 3, temparray = 5\n",
      "temp = [1, 2, 4, 7, 9, None, None, None, None]\n",
      "A[] = [1, 2, 4, 7, 9, 6, 3, 2, 7]\n",
      "low = 5, mid = 6, high = 8\n",
      "low = 5, mid = 5, high = 6\n",
      "subarray1 = 5, subarray2 = 6, temparray = 5\n",
      "temp = [1, 2, 4, 7, 9, None, None, None, None]\n",
      "subarray1 = 5, subarray2 = 7, temparray = 7\n",
      "temp = [1, 2, 4, 7, 9, 3, 6, None, None]\n",
      "A[] = [1, 2, 4, 7, 9, 3, 6, 2, 7]\n",
      "low = 7, mid = 7, high = 8\n",
      "subarray1 = 7, subarray2 = 8, temparray = 7\n",
      "temp = [1, 2, 4, 7, 9, 3, 6, None, None]\n",
      "subarray1 = 8, subarray2 = 8, temparray = 9\n",
      "temp = [1, 2, 4, 7, 9, 3, 6, 2, 7]\n",
      "A[] = [1, 2, 4, 7, 9, 3, 6, 2, 7]\n",
      "subarray1 = 5, subarray2 = 7, temparray = 5\n",
      "temp = [1, 2, 4, 7, 9, 3, 6, 2, 7]\n",
      "subarray1 = 7, subarray2 = 8, temparray = 9\n",
      "temp = [1, 2, 4, 7, 9, 2, 3, 6, 7]\n",
      "A[] = [1, 2, 4, 7, 9, 2, 3, 6, 7]\n",
      "subarray1 = 0, subarray2 = 5, temparray = 0\n",
      "temp = [1, 2, 4, 7, 9, 2, 3, 6, 7]\n",
      "subarray1 = 3, subarray2 = 9, temparray = 9\n",
      "temp = [1, 2, 2, 3, 4, 6, 7, 7, 9]\n",
      "A[] = [1, 2, 2, 3, 4, 6, 7, 7, 9]\n",
      "[1, 2, 2, 3, 4, 6, 7, 7, 9]\n"
     ]
    }
   ],
   "source": [
    "A_dup = [4,1,2,7,9,6,3,2,7]\n",
    "temp = [None] * len(A_dup)\n",
    "mergeSort(A_dup, 0,len(A_dup)-1)\n",
    "print(A_dup)"
   ]
  },
  {
   "cell_type": "code",
   "execution_count": 15,
   "id": "54fc4817",
   "metadata": {},
   "outputs": [
    {
     "name": "stdout",
     "output_type": "stream",
     "text": [
      "\n",
      "*****Two Elements*****\n",
      "low = 0, mid = 0, high = 1\n",
      "subarray1 = 0, subarray2 = 1, temparray = 0\n",
      "temp = [None, None, None, None, None, None, None, None, None]\n",
      "subarray1 = 1, subarray2 = 1, temparray = 2\n",
      "temp = [-3, 1, None, None, None, None, None, None, None]\n",
      "A[] = [-3, 1]\n",
      "[-3, 1]\n"
     ]
    }
   ],
   "source": [
    "print(\"\\n*****Two Elements*****\")\n",
    "A_double= [-3,1]\n",
    "temp = [None] * len(A_double)\n",
    "mergeSort(A_double, 0,len(A_double)-1)\n",
    "print(A_double)"
   ]
  },
  {
   "cell_type": "code",
   "execution_count": 16,
   "id": "414641d3",
   "metadata": {},
   "outputs": [
    {
     "name": "stdout",
     "output_type": "stream",
     "text": [
      "\n",
      "*****Two Elements*****\n",
      "low = 0, mid = 0, high = 1\n",
      "subarray1 = 0, subarray2 = 1, temparray = 0\n",
      "temp = [None, None]\n",
      "subarray1 = 0, subarray2 = 2, temparray = 2\n",
      "temp = [-3, 1]\n",
      "A[] = [-3, 1]\n",
      "[-3, 1]\n"
     ]
    }
   ],
   "source": [
    "print(\"\\n*****Two Elements*****\")\n",
    "A_double= [1,-3]\n",
    "temp = [None] * len(A_double)\n",
    "mergeSort(A_double, 0,len(A_double)-1)\n",
    "print(A_double)"
   ]
  },
  {
   "cell_type": "code",
   "execution_count": null,
   "id": "6904a74a",
   "metadata": {},
   "outputs": [],
   "source": []
  }
 ],
 "metadata": {
  "kernelspec": {
   "display_name": "Python 3 (ipykernel)",
   "language": "python",
   "name": "python3"
  },
  "language_info": {
   "codemirror_mode": {
    "name": "ipython",
    "version": 3
   },
   "file_extension": ".py",
   "mimetype": "text/x-python",
   "name": "python",
   "nbconvert_exporter": "python",
   "pygments_lexer": "ipython3",
   "version": "3.8.2"
  }
 },
 "nbformat": 4,
 "nbformat_minor": 5
}
