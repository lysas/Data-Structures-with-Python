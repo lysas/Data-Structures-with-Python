{
 "cells": [
  {
   "cell_type": "markdown",
   "id": "6a8da0eb",
   "metadata": {},
   "source": [
    "# Simple Approach - using if"
   ]
  },
  {
   "cell_type": "code",
   "execution_count": 2,
   "id": "d4c8ecfd",
   "metadata": {},
   "outputs": [],
   "source": [
    "def straightMaxMin1(a):\n",
    "# Set max to the maximum and min to the minimum of a[1:n].\n",
    "    max = min = a[0];\n",
    "    for i in range(1,len(a)):\n",
    "        if(a[i] > max): \n",
    "            max = a[i]\n",
    "        if(a[i] < min):\n",
    "            min = a[i]\n",
    "    return(max, min)"
   ]
  },
  {
   "cell_type": "markdown",
   "id": "2f2cc501",
   "metadata": {},
   "source": [
    "# Simple Approach - using elif"
   ]
  },
  {
   "cell_type": "code",
   "execution_count": 3,
   "id": "9b5ea40d",
   "metadata": {},
   "outputs": [],
   "source": [
    "def straightMaxMin2(a):\n",
    "# Set max to the maximum and min to the minimum of a[1:n].\n",
    "    max = min = a[0];\n",
    "    for i in range(1,len(a)):\n",
    "        if(a[i] > max): \n",
    "            max = a[i]\n",
    "        elif(a[i] < min):\n",
    "            min = a[i]\n",
    "    return(max, min)"
   ]
  },
  {
   "cell_type": "code",
   "execution_count": 4,
   "id": "b90c2333",
   "metadata": {},
   "outputs": [],
   "source": [
    "# Using Divide and Conquer"
   ]
  },
  {
   "cell_type": "code",
   "execution_count": 7,
   "id": "0015479c",
   "metadata": {},
   "outputs": [],
   "source": [
    "import math\n",
    "def MaxMin3(a,low,high):\n",
    "    if low == high:        \n",
    "        max = min = a[low];\n",
    "    elif low == high-1:\n",
    "        if(a[low] > a[high]): \n",
    "            min = a[high];max = a[low]\n",
    "        else:\n",
    "            min = a[low];max=a[high]\n",
    "    else:\n",
    "        mid = math.floor((low+high)/2)\n",
    "        max, min = MaxMin3(a,low,mid)\n",
    "        max1, min1 = MaxMin3(a,mid+1,high)\n",
    "        if max < max1:\n",
    "            max = max1\n",
    "        if min > min1:\n",
    "            min = min1\n",
    "    return(max, min)"
   ]
  },
  {
   "cell_type": "code",
   "execution_count": 9,
   "id": "581b552a",
   "metadata": {},
   "outputs": [
    {
     "name": "stdout",
     "output_type": "stream",
     "text": [
      "Multiple elements\n",
      "First Appraoch\n",
      "Max = 7,Min = 1\n",
      "Second Approach\n",
      "Max = 7,Min = 1\n",
      "Third Approach\n",
      "Max = 7,Min = 1\n",
      "\n",
      "One element\n",
      "First Appraoch\n",
      "Max = 1,Min = 1\n",
      "Second Approach\n",
      "Max = 1,Min = 1\n",
      "Third Approach\n",
      "Max = 1,Min = 1\n",
      "\n",
      "Two elements\n",
      "First Appraoch\n",
      "Max = 8,Min = 4\n",
      "Second Approach\n",
      "Max = 8,Min = 4\n",
      "Third Approach\n",
      "Max = 8,Min = 4\n",
      "\n",
      "Two elements-Reverse\n",
      "First Appraoch\n",
      "Max = 8,Min = 4\n",
      "Second Approach\n",
      "Max = 8,Min = 4\n",
      "Third Approach\n",
      "Max = 8,Min = 4\n"
     ]
    }
   ],
   "source": [
    "# Driver Code\n",
    "\n",
    "print(\"Multiple elements\")\n",
    "elts = [3,1,5,2,7,6]\n",
    "max,min = straightMaxMin1(elts)\n",
    "print(f\"First Appraoch\\nMax = {max},Min = {min}\")\n",
    "max,min = straightMaxMin2(elts)\n",
    "print(f\"Second Approach\\nMax = {max},Min = {min}\")\n",
    "max,min = MaxMin3(elts,0,len(elts)-1)\n",
    "print(f\"Third Approach\\nMax = {max},Min = {min}\")\n",
    "\n",
    "print(\"\\nOne element\")\n",
    "elts = [1]\n",
    "max,min = straightMaxMin1(elts)\n",
    "print(f\"First Appraoch\\nMax = {max},Min = {min}\")\n",
    "max,min = straightMaxMin2(elts)\n",
    "print(f\"Second Approach\\nMax = {max},Min = {min}\")\n",
    "max,min = MaxMin3(elts,0,len(elts)-1)\n",
    "print(f\"Third Approach\\nMax = {max},Min = {min}\")\n",
    "\n",
    "print(\"\\nTwo elements\")\n",
    "elts = [4,8]\n",
    "max,min = straightMaxMin1(elts)\n",
    "print(f\"First Appraoch\\nMax = {max},Min = {min}\")\n",
    "max,min = straightMaxMin2(elts)\n",
    "print(f\"Second Approach\\nMax = {max},Min = {min}\")\n",
    "max,min = MaxMin3(elts,0,len(elts)-1)\n",
    "print(f\"Third Approach\\nMax = {max},Min = {min}\")\n",
    "\n",
    "print(\"\\nTwo elements-Reverse\")\n",
    "elts = [8,4]\n",
    "max,min = straightMaxMin1(elts)\n",
    "print(f\"First Appraoch\\nMax = {max},Min = {min}\")\n",
    "max,min = straightMaxMin2(elts)\n",
    "print(f\"Second Approach\\nMax = {max},Min = {min}\")\n",
    "max,min = MaxMin3(elts,0,len(elts)-1)\n",
    "print(f\"Third Approach\\nMax = {max},Min = {min}\")"
   ]
  }
 ],
 "metadata": {
  "kernelspec": {
   "display_name": "Python 3 (ipykernel)",
   "language": "python",
   "name": "python3"
  },
  "language_info": {
   "codemirror_mode": {
    "name": "ipython",
    "version": 3
   },
   "file_extension": ".py",
   "mimetype": "text/x-python",
   "name": "python",
   "nbconvert_exporter": "python",
   "pygments_lexer": "ipython3",
   "version": "3.8.2"
  }
 },
 "nbformat": 4,
 "nbformat_minor": 5
}
